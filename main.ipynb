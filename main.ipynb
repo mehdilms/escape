{
 "cells": [
  {
   "cell_type": "code",
   "execution_count": null,
   "metadata": {},
   "outputs": [],
   "source": [
    "# PART 3 Development through Escape API"
   ]
  },
  {
   "cell_type": "code",
   "execution_count": null,
   "metadata": {},
   "outputs": [],
   "source": [
    "pip install requests\n",
    "\n"
   ]
  },
  {
   "cell_type": "code",
   "execution_count": null,
   "metadata": {},
   "outputs": [],
   "source": [
    "pip install pandas"
   ]
  },
  {
   "cell_type": "code",
   "execution_count": 81,
   "metadata": {},
   "outputs": [],
   "source": [
    "import requests\n",
    "import pandas as pd"
   ]
  },
  {
   "cell_type": "code",
   "execution_count": 82,
   "metadata": {},
   "outputs": [],
   "source": [
    "API = \"https://public.escape.tech/\"\n",
    "API_TOKEN = \"be40cee9-f5ca-43e0-a475-bd9d32a8dd5f\"\n",
    "scan_id = \"c3505811-b4e6-4216-93c6-54f66789cd6e\"\n",
    "API_URL = f\"{API}/scans/{scan_id}\"\n",
    "\n",
    "#API_URL = \"https://public.escape.tech/v1/scans/c3505811-b4e6-4216-93c6-54f66789cd6e\"\n",
    "\n",
    "headers = {\n",
    "    \"Authorization\": f\"Key {API_TOKEN}\",\n",
    "    \"Content-Type\": \"application/json\"\n",
    "}"
   ]
  },
  {
   "cell_type": "code",
   "execution_count": 83,
   "metadata": {},
   "outputs": [],
   "source": [
    "response = requests.get(API_URL, headers=headers)\n",
    "\n",
    "    # Vérifier si la requête a réussi\n",
    "if response.status_code == 200:\n",
    "    last_scan_json = response.json()\n",
    "else:\n",
    "    print(f\"Error : {response.status_code}\")"
   ]
  },
  {
   "cell_type": "code",
   "execution_count": null,
   "metadata": {},
   "outputs": [],
   "source": [
    "# Getting security tests data from json file\n",
    "alerts = last_scan_json.get('securityTests', [])\n",
    "df_alerts = pd.DataFrame(alerts)\n",
    "print(df_alerts.columns)"
   ]
  },
  {
   "cell_type": "code",
   "execution_count": 87,
   "metadata": {},
   "outputs": [
    {
     "name": "stdout",
     "output_type": "stream",
     "text": [
      "There are 3 High vulnerabilities, 4 Medium vulnerabilities and 2 Low vulnerabilities.\n"
     ]
    }
   ],
   "source": [
    "# Count the number of High, Medium and Low vulnerabilities\n",
    "high_severity_count = (df_alerts['severity'] == 'HIGH').sum()\n",
    "medium_severity_count = (df_alerts['severity'] == 'MEDIUM').sum()\n",
    "low_severity_count = (df_alerts['severity'] == 'LOW').sum()\n",
    "\n",
    "# Answer  to question Part 3\n",
    "print(f\"There are {high_severity_count} High vulnerabilities, {medium_severity_count} Medium vulnerabilities and {low_severity_count} Low vulnerabilities.\")\n"
   ]
  }
 ],
 "metadata": {
  "kernelspec": {
   "display_name": "Python 3",
   "language": "python",
   "name": "python3"
  },
  "language_info": {
   "codemirror_mode": {
    "name": "ipython",
    "version": 3
   },
   "file_extension": ".py",
   "mimetype": "text/x-python",
   "name": "python",
   "nbconvert_exporter": "python",
   "pygments_lexer": "ipython3",
   "version": "3.12.0"
  }
 },
 "nbformat": 4,
 "nbformat_minor": 2
}
